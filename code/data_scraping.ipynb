{
 "cells": [
  {
   "cell_type": "code",
   "execution_count": 133,
   "metadata": {
    "collapsed": true
   },
   "outputs": [],
   "source": [
    "# Imports\n",
    "import os\n",
    "import pandas as pd\n",
    "import sqlite3\n",
    "\n",
    "# No scientific notation, only ints\n",
    "pd.set_option('display.float_format', lambda x: '%.0f' % x)"
   ]
  },
  {
   "cell_type": "code",
   "execution_count": 134,
   "metadata": {
    "collapsed": false
   },
   "outputs": [],
   "source": [
    "# Creates dataframes for each park's animal data\n",
    "\n",
    "# Creates a dictionary from park 4 letter code to a dataframe of it's animal data.\n",
    "park_frames = {}\n",
    "biodiversity_data_path = \"../data/park_biodiversity_data/\"\n",
    "for file in os.listdir(biodiversity_data_path):\n",
    "    tag = file.split(\".\")[0]\n",
    "    park_frames[tag] = pd.read_csv(biodiversity_data_path + file)\n",
    "\n",
    "# Create dataframe for visitation data and location data.\n",
    "visitation_frame = pd.read_csv(\"../data/annual_visitation.csv\")\n",
    "location_frame = pd.read_csv(\"../data/location_data.csv\")"
   ]
  },
  {
   "cell_type": "code",
   "execution_count": 135,
   "metadata": {
    "collapsed": false
   },
   "outputs": [
    {
     "name": "stdout",
     "output_type": "stream",
     "text": [
      "Index(['Park Code', 'Park Name', 'Category', 'Category Sort', 'Order',\n",
      "       'Family', 'Taxon Code', 'TSN', 'Taxon Record Status', 'Scientific Name',\n",
      "       'Common Names', 'Synonyms', 'Occurrence'],\n",
      "      dtype='object')\n",
      "Index(['Region_Name', 'Park_Name', 'Park_Type', 'Year', 'TRV'], dtype='object')\n",
      "Index(['Park_Code', 'Park_Name', 'State', 'Acres', 'Latitude', 'Longitude'], dtype='object')\n"
     ]
    }
   ],
   "source": [
    "# Print columns of each dataframe\n",
    "print(park_frames['NOCA'].columns)\n",
    "print(visitation_frame.columns)\n",
    "print(location_frame.columns)"
   ]
  },
  {
   "cell_type": "code",
   "execution_count": 136,
   "metadata": {},
   "outputs": [],
   "source": [
    "# Joins all the park dataframes into one large dataframe and nicely names columns\n",
    "wildlife_frame = pd.concat([x for x in park_frames.values()], axis=0)\n",
    "wildlife_frame.columns = wildlife_frame.columns.str.replace(' ', '_')\n",
    "visitation_frame.columns = visitation_frame.columns.str.replace('TRV', 'Visitors')"
   ]
  },
  {
   "cell_type": "code",
   "execution_count": 137,
   "metadata": {},
   "outputs": [],
   "source": [
    "#Filters the data\n",
    "\n",
    "# Removes unnecessary columns\n",
    "wildlife_frame = wildlife_frame.drop([\"Taxon_Code\", \"TSN\", \"Synonyms\"], axis=1) \n",
    "\n",
    "# Removes rows that aren't actively being seen in the park\n",
    "wildlife_frame = wildlife_frame.query(\"Occurrence == 'Present'\") \n",
    "wildlife_frame = wildlife_frame.query(\"Taxon_Record_Status == 'Active'\")\n",
    "\n",
    "# Location frame standardization\n",
    "location_frame[\"Park_Name\"] = location_frame[\"Park_Name\"].str.replace('Of The', \"of the\")\n",
    "\n",
    "# Visitation frame name standardization.\n",
    "visitation_frame[\"Park_Name\"] = visitation_frame[\"Park_Name\"].str.replace('Kings Canyon NP', \"Sequoia and Kings Canyon NPs\")\n",
    "visitation_frame[\"Park_Name\"] = visitation_frame[\"Park_Name\"].str.replace('Sequoia N', \"Sequoia and Kings Canyon NPs\")\n",
    "visitation_frame[\"Park_Name\"] = visitation_frame[\"Park_Name\"].str.replace('Wrangell-St.', \"Wrangell - St\")\n",
    "visitation_frame[\"Park_Name\"] = visitation_frame[\"Park_Name\"].str.replace('NP', \"National Park\")\n",
    "visitation_frame[\"Park_Name\"] = visitation_frame[\"Park_Name\"].str.replace('& PRES', \"and Preserve\")\n",
    "\n",
    "# Removes all rows > 10 years old for visitation data and then merges them taking the average.\n",
    "visitation_frame = visitation_frame.query(\"Year >= 2012\")\n",
    "visitation_frame = visitation_frame.drop(['Year'], axis=1)\n",
    "visitation_frame[\"Visitors\"] = visitation_frame[\"Visitors\"].str.replace(',', '')\n",
    "visitation_frame[\"Visitors\"] = pd.to_numeric(visitation_frame[\"Visitors\"])\n",
    "visitation_frame = visitation_frame.groupby([\"Park_Name\"]).mean().round(0)"
   ]
  },
  {
   "cell_type": "code",
   "execution_count": 138,
   "metadata": {},
   "outputs": [],
   "source": [
    "# Merges location_frame and visitation_frame\n",
    "# Note we are left with 57 parks as this is all the visitation frame dataset has\n",
    "vis_and_loc_frame = location_frame.merge(visitation_frame, how='left', left_on='Park_Name', right_on='Park_Name')"
   ]
  },
  {
   "cell_type": "code",
   "execution_count": 139,
   "metadata": {},
   "outputs": [
    {
     "name": "stdout",
     "output_type": "stream",
     "text": [
      "Index(['Park_Code', 'Park_Name', 'Category', 'Order', 'Family',\n",
      "       'Scientific_Name', 'State', 'Acres', 'Latitude', 'Longitude',\n",
      "       'Visitors'],\n",
      "      dtype='object')\n"
     ]
    }
   ],
   "source": [
    "# Merges wildlife frame with our visitation and location frame to result in final data.\n",
    "# Clean up dataset.\n",
    "database = wildlife_frame.merge(vis_and_loc_frame, how='inner', left_on='Park_Code', right_on='Park_Code')\n",
    "database = database.drop(['Park_Name_x', 'Category_Sort', 'Taxon_Record_Status', 'Occurrence'], axis=1)\n",
    "database = database.rename(columns={'Park_Name_y': 'Park_Name', 'Park_Code': 'Park_Code'})\n",
    "database = database[['Park_Code', 'Park_Name', 'Category', 'Order', 'Family', 'Scientific_Name', \\\n",
    "                      'State', 'Acres', 'Latitude', 'Longitude', 'Visitors']]\n",
    "print(database.columns)\n",
    "conn = sqlite3.connect('../data.db')\n",
    "c = conn.cursor()\n",
    "database.to_sql('final', conn, if_exists='replace')"
   ]
  }
 ],
 "metadata": {
  "kernelspec": {
   "display_name": "Python 3",
   "language": "python",
   "name": "python3"
  },
  "language_info": {
   "codemirror_mode": {
    "name": "ipython",
    "version": 3
   },
   "file_extension": ".py",
   "mimetype": "text/x-python",
   "name": "python",
   "nbconvert_exporter": "python",
   "pygments_lexer": "ipython3",
   "version": "3.7.16"
  }
 },
 "nbformat": 4,
 "nbformat_minor": 0
}
